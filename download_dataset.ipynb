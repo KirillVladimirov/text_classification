{
 "cells": [
  {
   "cell_type": "code",
   "execution_count": 7,
   "metadata": {},
   "outputs": [],
   "source": [
    "import contentful\n",
    "import pandas as pd"
   ]
  },
  {
   "cell_type": "code",
   "execution_count": 8,
   "metadata": {},
   "outputs": [
    {
     "data": {
      "text/plain": [
       "<Array size='216' total='216' limit='300' skip='0'>"
      ]
     },
     "execution_count": 8,
     "metadata": {},
     "output_type": "execute_result"
    }
   ],
   "source": [
    "SPACE_ID = 'vhjns0a2q244'\n",
    "ACCESS_TOKEN = '189c6b77fa686e8bfc15ae9bc63e0149b269a1715974f0ba5345adc5dadb65b8'\n",
    "\n",
    "client = contentful.Client(SPACE_ID, ACCESS_TOKEN)\n",
    "\n",
    "entries = client.entries({'content_type': 'articles', 'limit': 300})\n",
    "entries"
   ]
  },
  {
   "cell_type": "code",
   "execution_count": 9,
   "metadata": {},
   "outputs": [],
   "source": [
    "def get_values(body, result=None):\n",
    "    \"\"\"\n",
    "    Извлечение текста из рекурсивной структуры данных\n",
    "    \"\"\"\n",
    "    if result is None:\n",
    "        result = [] \n",
    "    if 'content' in body:\n",
    "        for item in body['content']:\n",
    "            get_values(item, result)\n",
    "    if 'value' in body:\n",
    "        result.append(body['value'])\n",
    "    return result"
   ]
  },
  {
   "cell_type": "code",
   "execution_count": 10,
   "metadata": {},
   "outputs": [],
   "source": [
    "def clean_text(body):\n",
    "    text = ' '.join(get_values(body))\n",
    "    text = text.replace('\\n\\n', ' ')\n",
    "    text = text.replace('\\xa0', ' ')\n",
    "    return text"
   ]
  },
  {
   "cell_type": "markdown",
   "metadata": {},
   "source": [
    "Классифицированной считается та статья, которая размечина тэгами (метками) 2-ого уровня или выше."
   ]
  },
  {
   "cell_type": "code",
   "execution_count": 11,
   "metadata": {},
   "outputs": [],
   "source": [
    "def get_labels(industries):\n",
    "    \"\"\"\n",
    "    Извлечение меток\n",
    "    \"\"\"\n",
    "    tags = []\n",
    "    industries = industries.split(';')\n",
    "    for industry in industries:\n",
    "        categories = industry.split('/')\n",
    "        if len(categories) > 1:\n",
    "            tags.append(categories[1])\n",
    "    return tags"
   ]
  },
  {
   "cell_type": "code",
   "execution_count": 12,
   "metadata": {},
   "outputs": [],
   "source": [
    "data = []\n",
    "\n",
    "for item in entries:\n",
    "    classes = []\n",
    "    if hasattr(item, 'industries'):\n",
    "        classes = get_labels(item.industries)\n",
    "    data.append([item.id, clean_text(item.body), '/'.join(classes)])"
   ]
  },
  {
   "cell_type": "code",
   "execution_count": 13,
   "metadata": {},
   "outputs": [
    {
     "data": {
      "text/html": [
       "<div>\n",
       "<style scoped>\n",
       "    .dataframe tbody tr th:only-of-type {\n",
       "        vertical-align: middle;\n",
       "    }\n",
       "\n",
       "    .dataframe tbody tr th {\n",
       "        vertical-align: top;\n",
       "    }\n",
       "\n",
       "    .dataframe thead th {\n",
       "        text-align: right;\n",
       "    }\n",
       "</style>\n",
       "<table border=\"1\" class=\"dataframe\">\n",
       "  <thead>\n",
       "    <tr style=\"text-align: right;\">\n",
       "      <th></th>\n",
       "      <th>id</th>\n",
       "      <th>text</th>\n",
       "      <th>classes</th>\n",
       "    </tr>\n",
       "  </thead>\n",
       "  <tbody>\n",
       "    <tr>\n",
       "      <th>0</th>\n",
       "      <td>6nSIEp3ZfO4okkUaGmUksW</td>\n",
       "      <td>Строительная отрасль начала падение задолго до...</td>\n",
       "      <td></td>\n",
       "    </tr>\n",
       "    <tr>\n",
       "      <th>1</th>\n",
       "      <td>3VGhiB5MEwGqG4MQiKMw6U</td>\n",
       "      <td>Бизнес часто использует номинальных руководите...</td>\n",
       "      <td></td>\n",
       "    </tr>\n",
       "    <tr>\n",
       "      <th>2</th>\n",
       "      <td>28C2BJvmEsQKiS4AEO2eIE</td>\n",
       "      <td>За период с сентября 2017 года по октябрь 2018...</td>\n",
       "      <td>FMCG</td>\n",
       "    </tr>\n",
       "    <tr>\n",
       "      <th>3</th>\n",
       "      <td>65s7gPkLFmgkeIQQWCCcWW</td>\n",
       "      <td>Также аналитики Knight Frank прогнозируют, что...</td>\n",
       "      <td>Недвижимость/Хранение</td>\n",
       "    </tr>\n",
       "    <tr>\n",
       "      <th>4</th>\n",
       "      <td>2ldCvrzcf6wcwOMwiI2A4U</td>\n",
       "      <td>Несмотря на то что основные экономические пока...</td>\n",
       "      <td>FMCG</td>\n",
       "    </tr>\n",
       "  </tbody>\n",
       "</table>\n",
       "</div>"
      ],
      "text/plain": [
       "                       id                                               text  \\\n",
       "0  6nSIEp3ZfO4okkUaGmUksW  Строительная отрасль начала падение задолго до...   \n",
       "1  3VGhiB5MEwGqG4MQiKMw6U  Бизнес часто использует номинальных руководите...   \n",
       "2  28C2BJvmEsQKiS4AEO2eIE  За период с сентября 2017 года по октябрь 2018...   \n",
       "3  65s7gPkLFmgkeIQQWCCcWW  Также аналитики Knight Frank прогнозируют, что...   \n",
       "4  2ldCvrzcf6wcwOMwiI2A4U  Несмотря на то что основные экономические пока...   \n",
       "\n",
       "                 classes  \n",
       "0                         \n",
       "1                         \n",
       "2                   FMCG  \n",
       "3  Недвижимость/Хранение  \n",
       "4                   FMCG  "
      ]
     },
     "execution_count": 13,
     "metadata": {},
     "output_type": "execute_result"
    }
   ],
   "source": [
    "df = pd.DataFrame(data, columns=['id', 'text', 'classes'])\n",
    "df.head()"
   ]
  },
  {
   "cell_type": "code",
   "execution_count": 14,
   "metadata": {},
   "outputs": [],
   "source": [
    "df.to_csv('dataset.csv', index=False)"
   ]
  },
  {
   "cell_type": "code",
   "execution_count": 15,
   "metadata": {},
   "outputs": [
    {
     "data": {
      "text/html": [
       "<div>\n",
       "<style scoped>\n",
       "    .dataframe tbody tr th:only-of-type {\n",
       "        vertical-align: middle;\n",
       "    }\n",
       "\n",
       "    .dataframe tbody tr th {\n",
       "        vertical-align: top;\n",
       "    }\n",
       "\n",
       "    .dataframe thead th {\n",
       "        text-align: right;\n",
       "    }\n",
       "</style>\n",
       "<table border=\"1\" class=\"dataframe\">\n",
       "  <thead>\n",
       "    <tr style=\"text-align: right;\">\n",
       "      <th></th>\n",
       "      <th>id</th>\n",
       "      <th>text</th>\n",
       "      <th>classes</th>\n",
       "    </tr>\n",
       "  </thead>\n",
       "  <tbody>\n",
       "    <tr>\n",
       "      <th>0</th>\n",
       "      <td>6nSIEp3ZfO4okkUaGmUksW</td>\n",
       "      <td>Строительная отрасль начала падение задолго до...</td>\n",
       "      <td>NaN</td>\n",
       "    </tr>\n",
       "    <tr>\n",
       "      <th>1</th>\n",
       "      <td>3VGhiB5MEwGqG4MQiKMw6U</td>\n",
       "      <td>Бизнес часто использует номинальных руководите...</td>\n",
       "      <td>NaN</td>\n",
       "    </tr>\n",
       "    <tr>\n",
       "      <th>2</th>\n",
       "      <td>28C2BJvmEsQKiS4AEO2eIE</td>\n",
       "      <td>За период с сентября 2017 года по октябрь 2018...</td>\n",
       "      <td>FMCG</td>\n",
       "    </tr>\n",
       "    <tr>\n",
       "      <th>3</th>\n",
       "      <td>65s7gPkLFmgkeIQQWCCcWW</td>\n",
       "      <td>Также аналитики Knight Frank прогнозируют, что...</td>\n",
       "      <td>Недвижимость/Хранение</td>\n",
       "    </tr>\n",
       "    <tr>\n",
       "      <th>4</th>\n",
       "      <td>2ldCvrzcf6wcwOMwiI2A4U</td>\n",
       "      <td>Несмотря на то что основные экономические пока...</td>\n",
       "      <td>FMCG</td>\n",
       "    </tr>\n",
       "  </tbody>\n",
       "</table>\n",
       "</div>"
      ],
      "text/plain": [
       "                       id                                               text  \\\n",
       "0  6nSIEp3ZfO4okkUaGmUksW  Строительная отрасль начала падение задолго до...   \n",
       "1  3VGhiB5MEwGqG4MQiKMw6U  Бизнес часто использует номинальных руководите...   \n",
       "2  28C2BJvmEsQKiS4AEO2eIE  За период с сентября 2017 года по октябрь 2018...   \n",
       "3  65s7gPkLFmgkeIQQWCCcWW  Также аналитики Knight Frank прогнозируют, что...   \n",
       "4  2ldCvrzcf6wcwOMwiI2A4U  Несмотря на то что основные экономические пока...   \n",
       "\n",
       "                 classes  \n",
       "0                    NaN  \n",
       "1                    NaN  \n",
       "2                   FMCG  \n",
       "3  Недвижимость/Хранение  \n",
       "4                   FMCG  "
      ]
     },
     "execution_count": 15,
     "metadata": {},
     "output_type": "execute_result"
    }
   ],
   "source": [
    "df = pd.read_csv('dataset.csv')\n",
    "df.head()"
   ]
  },
  {
   "cell_type": "code",
   "execution_count": null,
   "metadata": {},
   "outputs": [],
   "source": []
  }
 ],
 "metadata": {
  "kernelspec": {
   "display_name": "Python 3",
   "language": "python",
   "name": "python3"
  },
  "language_info": {
   "codemirror_mode": {
    "name": "ipython",
    "version": 3
   },
   "file_extension": ".py",
   "mimetype": "text/x-python",
   "name": "python",
   "nbconvert_exporter": "python",
   "pygments_lexer": "ipython3",
   "version": "3.7.2"
  }
 },
 "nbformat": 4,
 "nbformat_minor": 2
}
